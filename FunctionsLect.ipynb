{
 "cells": [
  {
   "cell_type": "markdown",
   "id": "4ca5fdb2-20e8-46a6-bf05-860df6fefca9",
   "metadata": {},
   "source": [
    "### Simple Function"
   ]
  },
  {
   "cell_type": "code",
   "execution_count": 4,
   "id": "8983a8b2-718f-41bf-bef1-f0e28aedeae8",
   "metadata": {},
   "outputs": [
    {
     "name": "stdout",
     "output_type": "stream",
     "text": [
      "Hello world!\n",
      "<class 'function'>\n"
     ]
    }
   ],
   "source": [
    "def print_msg():\n",
    "    print('Hello world!')\n",
    "print_msg()\n",
    "print(type(print_msg))"
   ]
  },
  {
   "cell_type": "code",
   "execution_count": 8,
   "id": "9565c7e5-cb74-41aa-bcfe-ec826d84a2c1",
   "metadata": {},
   "outputs": [
    {
     "name": "stdout",
     "output_type": "stream",
     "text": [
      "Hello World!\n",
      "4\n"
     ]
    }
   ],
   "source": [
    "def print_msg(msg):\n",
    "    print(msg)\n",
    "def square(n):\n",
    "    return n*n\n",
    "print_msg('Hello World!')\n",
    "print(square(2))"
   ]
  },
  {
   "cell_type": "markdown",
   "id": "d128da72-0740-4ae8-86cc-33f339e71345",
   "metadata": {},
   "source": [
    "### Returning Aggregate Types"
   ]
  },
  {
   "cell_type": "code",
   "execution_count": 15,
   "id": "23e9aa0a-272e-4bff-8d6c-f23a82ca0994",
   "metadata": {},
   "outputs": [
    {
     "name": "stdout",
     "output_type": "stream",
     "text": [
      "[5, 6, 7, 8, 9]\n",
      "{'one': 1, 'two': 2}\n"
     ]
    }
   ],
   "source": [
    "def makeAList(start,end):\n",
    "    newList = list(range(start, end))\n",
    "    return newList\n",
    "\n",
    "def dictionary():\n",
    "    return {'one':1, 'two':2}\n",
    "\n",
    "list1 = makeAList(5,10)\n",
    "print(list1)\n",
    "\n",
    "print(dictionary())"
   ]
  },
  {
   "cell_type": "markdown",
   "id": "5f840818-96f0-4644-86f0-9a6c19cc9aa4",
   "metadata": {},
   "source": [
    "### Multiple Assignment"
   ]
  },
  {
   "cell_type": "code",
   "execution_count": 22,
   "id": "e4d021ab-7a7f-411a-9e58-92cdafdfacd4",
   "metadata": {},
   "outputs": [
    {
     "name": "stdout",
     "output_type": "stream",
     "text": [
      "3 , 2\n",
      "(3, 2)\n"
     ]
    }
   ],
   "source": [
    "def swap (a,b):\n",
    "    return b,a\n",
    "\n",
    "a=2\n",
    "b=3\n",
    "x,y, = swap(a,b)\n",
    "print(x, ',', y)\n",
    "\n",
    "z = swap(a,b)\n",
    "print(z)"
   ]
  },
  {
   "cell_type": "markdown",
   "id": "ebf0a8a3-953b-4fb6-b3e4-be503c18f690",
   "metadata": {},
   "source": [
    "### Function alignment"
   ]
  },
  {
   "cell_type": "code",
   "execution_count": 27,
   "id": "245cfcb0-cde5-44dd-bb15-bf18e4c28e02",
   "metadata": {},
   "outputs": [
    {
     "name": "stdout",
     "output_type": "stream",
     "text": [
      "1 1 2 3 5 8 13 21 34 55 89 144 233 377 \n"
     ]
    }
   ],
   "source": [
    "def print_fib(n):\n",
    "    a,b = 0,1\n",
    "    while b<n:\n",
    "        print(b, '', end='')\n",
    "        a,b = b, a+b\n",
    "    print()\n",
    "\n",
    "print_fib(500)\n"
   ]
  },
  {
   "cell_type": "markdown",
   "id": "7ca5490c-f061-4801-a2e0-098e1f646ae8",
   "metadata": {},
   "source": [
    "### Default Parameters"
   ]
  },
  {
   "cell_type": "code",
   "execution_count": null,
   "id": "b3e06ae6-4bef-46f5-b9f9-7237defc263d",
   "metadata": {},
   "outputs": [],
   "source": []
  }
 ],
 "metadata": {
  "kernelspec": {
   "display_name": "Python 3 (ipykernel)",
   "language": "python",
   "name": "python3"
  },
  "language_info": {
   "codemirror_mode": {
    "name": "ipython",
    "version": 3
   },
   "file_extension": ".py",
   "mimetype": "text/x-python",
   "name": "python",
   "nbconvert_exporter": "python",
   "pygments_lexer": "ipython3",
   "version": "3.12.4"
  }
 },
 "nbformat": 4,
 "nbformat_minor": 5
}
