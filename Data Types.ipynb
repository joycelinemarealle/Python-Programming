{
 "cells": [
  {
   "cell_type": "code",
   "execution_count": 1,
   "id": "bee508f0-3113-416f-8df3-d59d0a03a521",
   "metadata": {},
   "outputs": [],
   "source": [
    "l = [1,2,3,4,5]\n"
   ]
  },
  {
   "cell_type": "code",
   "execution_count": 2,
   "id": "7d859ab3-7363-4bb2-88b9-44786bc2f44a",
   "metadata": {},
   "outputs": [
    {
     "data": {
      "text/plain": [
       "[1, 2, 3]"
      ]
     },
     "execution_count": 2,
     "metadata": {},
     "output_type": "execute_result"
    }
   ],
   "source": [
    "l[:3]"
   ]
  },
  {
   "cell_type": "code",
   "execution_count": 3,
   "id": "a2ba5310-d756-4c50-881e-ea8118b6003c",
   "metadata": {},
   "outputs": [
    {
     "data": {
      "text/plain": [
       "[4, 3, 2, 1]"
      ]
     },
     "execution_count": 3,
     "metadata": {},
     "output_type": "execute_result"
    }
   ],
   "source": [
    "l[3::-1]"
   ]
  },
  {
   "cell_type": "code",
   "execution_count": 5,
   "id": "a02e6bbe-3aca-495d-b931-8519c5e15f75",
   "metadata": {},
   "outputs": [
    {
     "data": {
      "text/plain": [
       "[4, 3]"
      ]
     },
     "execution_count": 5,
     "metadata": {},
     "output_type": "execute_result"
    }
   ],
   "source": [
    "l[3:1:-1]"
   ]
  },
  {
   "cell_type": "code",
   "execution_count": null,
   "id": "0ed3b34a-a699-42cf-aa86-1e2d38ef975b",
   "metadata": {},
   "outputs": [],
   "source": []
  },
  {
   "cell_type": "markdown",
   "id": "861655ec-0720-4407-82f5-20bd5c44fc28",
   "metadata": {},
   "source": [
    "### Write down the types of the following expressions:"
   ]
  },
  {
   "cell_type": "code",
   "execution_count": 6,
   "id": "f2c446dc-6658-42e1-888f-8dae9e0088a1",
   "metadata": {},
   "outputs": [
    {
     "data": {
      "text/plain": [
       "int"
      ]
     },
     "execution_count": 6,
     "metadata": {},
     "output_type": "execute_result"
    }
   ],
   "source": [
    "type(5)"
   ]
  },
  {
   "cell_type": "code",
   "execution_count": 7,
   "id": "6e8ec451-e1ad-4aa7-b306-cd3f22e1c0e6",
   "metadata": {},
   "outputs": [
    {
     "data": {
      "text/plain": [
       "int"
      ]
     },
     "execution_count": 7,
     "metadata": {},
     "output_type": "execute_result"
    }
   ],
   "source": [
    "type(5000*500)"
   ]
  },
  {
   "cell_type": "code",
   "execution_count": 8,
   "id": "d1ed8e86-d0ec-48d5-b065-7ec1d2f943c0",
   "metadata": {},
   "outputs": [
    {
     "data": {
      "text/plain": [
       "complex"
      ]
     },
     "execution_count": 8,
     "metadata": {},
     "output_type": "execute_result"
    }
   ],
   "source": [
    "type(1j)"
   ]
  },
  {
   "cell_type": "code",
   "execution_count": 9,
   "id": "19344513-2d3e-490f-a92e-7509e87286c0",
   "metadata": {},
   "outputs": [
    {
     "data": {
      "text/plain": [
       "str"
      ]
     },
     "execution_count": 9,
     "metadata": {},
     "output_type": "execute_result"
    }
   ],
   "source": [
    "type('j')\n",
    "     "
   ]
  },
  {
   "cell_type": "code",
   "execution_count": 11,
   "id": "6b3a7217-d604-4ad5-a4f3-b66173f62423",
   "metadata": {},
   "outputs": [
    {
     "data": {
      "text/plain": [
       "tuple"
      ]
     },
     "execution_count": 11,
     "metadata": {},
     "output_type": "execute_result"
    }
   ],
   "source": [
    "type((1,))"
   ]
  },
  {
   "cell_type": "code",
   "execution_count": 12,
   "id": "41a58e1d-399b-4e12-bcdd-f7121be020a3",
   "metadata": {},
   "outputs": [
    {
     "data": {
      "text/plain": [
       "list"
      ]
     },
     "execution_count": 12,
     "metadata": {},
     "output_type": "execute_result"
    }
   ],
   "source": [
    "type ([1])"
   ]
  },
  {
   "cell_type": "code",
   "execution_count": 13,
   "id": "e071795d-1c6b-4a7f-a111-d4e6d9dc2c9e",
   "metadata": {},
   "outputs": [
    {
     "data": {
      "text/plain": [
       "NoneType"
      ]
     },
     "execution_count": 13,
     "metadata": {},
     "output_type": "execute_result"
    }
   ],
   "source": [
    "type(None)"
   ]
  },
  {
   "cell_type": "markdown",
   "id": "6e7a904f-c0b9-4322-87d8-ef390c8cb73d",
   "metadata": {},
   "source": [
    "### The following are floating point expressions. Why do these examples not give the correct answers?"
   ]
  },
  {
   "cell_type": "code",
   "execution_count": 14,
   "id": "6bf89892-e0ab-4502-9de3-2d46b9adb609",
   "metadata": {},
   "outputs": [
    {
     "name": "stdout",
     "output_type": "stream",
     "text": [
      "5.551115123125783e-17\n"
     ]
    }
   ],
   "source": [
    "a=  0.1 + 0.1 + 0.1 - 0.3\n",
    "print(a)"
   ]
  },
  {
   "cell_type": "code",
   "execution_count": 15,
   "id": "4c1c86b2-70c2-4741-8241-2d838aa2ea00",
   "metadata": {},
   "outputs": [
    {
     "name": "stdout",
     "output_type": "stream",
     "text": [
      "0.30000000000000004\n"
     ]
    }
   ],
   "source": [
    "b = 0.1+0.1+0.1\n",
    "print(b)\n",
    "\n",
    "#float give a precisio of 13 significant digits"
   ]
  },
  {
   "cell_type": "markdown",
   "id": "9e949aa1-0549-44d2-ae53-57560eeee72d",
   "metadata": {},
   "source": [
    "### Take some time to examine the same, and similar, expressions using the \n",
    "Decima\r\n",
    " type instead. What do you notice? Why is this?"
   ]
  },
  {
   "cell_type": "code",
   "execution_count": 18,
   "id": "55910625-de01-472e-bcbc-5fa40016bea0",
   "metadata": {},
   "outputs": [
    {
     "name": "stdout",
     "output_type": "stream",
     "text": [
      "0.3\n"
     ]
    }
   ],
   "source": [
    "#string converted to string\n",
    "from decimal import *\n",
    "c = Decimal(\".1\") + Decimal (\".1\") + Decimal (\".1\")\n",
    "print(c)"
   ]
  },
  {
   "cell_type": "code",
   "execution_count": 21,
   "id": "e15d84ad-dd7b-41d0-88f4-29bc409df47a",
   "metadata": {},
   "outputs": [
    {
     "data": {
      "text/plain": [
       "['java was originally written in 1995',\n",
       " 'python was originally written in 1991',\n",
       " 'perl was originally written in 1987']"
      ]
     },
     "execution_count": 21,
     "metadata": {},
     "output_type": "execute_result"
    }
   ],
   "source": [
    "d = {\"java\" : 1995, \"python\":1991, \"perl\":1987}\n",
    "\n",
    "\n",
    "[\"%s was originally written in %s\" % (lang,year) for lang, year in d.items()]"
   ]
  },
  {
   "cell_type": "code",
   "execution_count": 23,
   "id": "93b56b17-67e3-43f9-8e7c-5a7abdabce3d",
   "metadata": {},
   "outputs": [
    {
     "data": {
      "text/plain": [
       "['java was originally written in 2000',\n",
       " 'python was originally written in 1996',\n",
       " 'perl was originally written in 1992']"
      ]
     },
     "execution_count": 23,
     "metadata": {},
     "output_type": "execute_result"
    }
   ],
   "source": [
    "[f'{lang} was originally written in {year + 5}' for lang,year in d.items()]"
   ]
  },
  {
   "cell_type": "code",
   "execution_count": 24,
   "id": "dd33acb6-f374-4a66-bc04-213743aeac18",
   "metadata": {},
   "outputs": [
    {
     "name": "stdout",
     "output_type": "stream",
     "text": [
      "[1, 2, 5, 7, 39]\n"
     ]
    }
   ],
   "source": [
    "print(sorted({5,39,7,1,2}))"
   ]
  },
  {
   "cell_type": "code",
   "execution_count": 25,
   "id": "69224774-5701-488b-a44b-02dbe709568f",
   "metadata": {},
   "outputs": [
    {
     "name": "stdout",
     "output_type": "stream",
     "text": [
      "['A', 'B', 'C', 'a', 'b', 'c']\n"
     ]
    }
   ],
   "source": [
    "c1 = {'c', 'A', 'C', 'a', 'b', 'B'}\n",
    "print(sorted(c1))"
   ]
  },
  {
   "cell_type": "markdown",
   "id": "efec4bd8-0c03-409a-96e3-d9acf9c11a3e",
   "metadata": {},
   "source": [
    "### Write a script to calculate and print out the first 20 Fibonacci numbers: 1, 1, 2, 3, 5..."
   ]
  },
  {
   "cell_type": "code",
   "execution_count": 33,
   "id": "090f9c39-45d4-48c1-88c1-880916ecb06e",
   "metadata": {},
   "outputs": [
    {
     "name": "stdout",
     "output_type": "stream",
     "text": [
      "0\n",
      "1\n",
      "1\n",
      "2\n",
      "3\n",
      "5\n",
      "8\n",
      "13\n",
      "21\n",
      "34\n",
      "55\n",
      "89\n",
      "144\n",
      "233\n",
      "377\n",
      "610\n",
      "987\n",
      "1597\n",
      "2584\n",
      "4181\n"
     ]
    }
   ],
   "source": [
    "#first two terms\n",
    "n1 = 0\n",
    "n2 = 1\n",
    "count = 0\n",
    "\n",
    "while count < 20:\n",
    "    print(n1)\n",
    "    nth = n1+n2\n",
    "    #update values\n",
    "    n1=n2\n",
    "    n2=nth\n",
    "    count+=1\n",
    "        \n"
   ]
  },
  {
   "cell_type": "markdown",
   "id": "3e6091db-b109-4f01-bf4c-4c29592a2285",
   "metadata": {},
   "source": [
    "### Assign your name to a variable. Print out the last character of the variable (remember, strings are just lists of \n",
    "char\r\n",
    "). Then, use a for loop to print each letter in your name followed by a colon (\":\"), for example \r\n",
    "m:i::e\r\n",
    "."
   ]
  },
  {
   "cell_type": "code",
   "execution_count": 34,
   "id": "692c2a67-b8da-43ce-bd20-3e36169e89b0",
   "metadata": {},
   "outputs": [
    {
     "name": "stdout",
     "output_type": "stream",
     "text": [
      "j\n",
      "o\n",
      "y\n",
      "c\n",
      "e\n",
      "l\n",
      "i\n",
      "n\n",
      "e\n"
     ]
    }
   ],
   "source": [
    "name = 'joyceline'\n",
    "for i in name:\n",
    "    print(i)"
   ]
  },
  {
   "cell_type": "markdown",
   "id": "c749f58d-ebbf-46d2-8ea2-02d4bf464b7c",
   "metadata": {},
   "source": [
    "### Write a script that asks the user to enter 10 numbers between 1 and 8. Store the 10 numbers in a list. Count the number of times the user enters the number 5."
   ]
  },
  {
   "cell_type": "code",
   "execution_count": 48,
   "id": "0ffbcad0-bc11-40d9-9b24-352358d9a810",
   "metadata": {},
   "outputs": [
    {
     "name": "stdin",
     "output_type": "stream",
     "text": [
      "enter 10 numbers between 1 and 8 5\n",
      "enter 10 numbers between 1 and 8 5\n",
      "enter 10 numbers between 1 and 8 1\n",
      "enter 10 numbers between 1 and 8 2\n",
      "enter 10 numbers between 1 and 8 3\n",
      "enter 10 numbers between 1 and 8 4\n",
      "enter 10 numbers between 1 and 8 5\n",
      "enter 10 numbers between 1 and 8 6\n",
      "enter 10 numbers between 1 and 8 7\n",
      "enter 10 numbers between 1 and 8 8\n"
     ]
    },
    {
     "name": "stdout",
     "output_type": "stream",
     "text": [
      "3 count of 5s in the list\n"
     ]
    }
   ],
   "source": [
    "\n",
    "num_list = []\n",
    "\n",
    "\n",
    "\n",
    "#ask user 10 times \n",
    "for i in range(10):\n",
    "    number = int(input(\"enter 10 numbers between 1 and 8\"))\n",
    "    if number in range(1,9):\n",
    "        #add number to list\n",
    "        num_list.append(number)\n",
    "    else:\n",
    "        print('Incorrect! enter a number between 1 and 8')\n",
    "        break\n",
    "\n",
    "#count\n",
    "count = 0\n",
    "for i in num_list:\n",
    "    if i == 5:\n",
    "        count +=1\n",
    "print(count,'count of 5s in the list')\n",
    "\n"
   ]
  },
  {
   "cell_type": "markdown",
   "id": "ed0b3ab8-3dd0-498f-8bc7-a6a48134ff91",
   "metadata": {},
   "source": [
    "### Declare a list \n",
    "[1, 4, 9, 16, 25\r\n",
    ". Use a list comprehension to filter out all the odd numbers."
   ]
  },
  {
   "cell_type": "code",
   "execution_count": 52,
   "id": "8d0b32cf-a716-44c9-97aa-86dc310b3d9f",
   "metadata": {},
   "outputs": [
    {
     "name": "stdout",
     "output_type": "stream",
     "text": [
      "[4, 16]\n"
     ]
    }
   ],
   "source": [
    "list1= [1,4,9,16,25]\n",
    "for i in list1:\n",
    "    if i%2 != 0:\n",
    "        list1.remove(i)\n",
    "print(list1)\n",
    "        "
   ]
  },
  {
   "cell_type": "code",
   "execution_count": null,
   "id": "4951bc95-b6e2-4986-b08d-6335c042043b",
   "metadata": {},
   "outputs": [],
   "source": []
  }
 ],
 "metadata": {
  "kernelspec": {
   "display_name": "Python 3 (ipykernel)",
   "language": "python",
   "name": "python3"
  },
  "language_info": {
   "codemirror_mode": {
    "name": "ipython",
    "version": 3
   },
   "file_extension": ".py",
   "mimetype": "text/x-python",
   "name": "python",
   "nbconvert_exporter": "python",
   "pygments_lexer": "ipython3",
   "version": "3.11.7"
  }
 },
 "nbformat": 4,
 "nbformat_minor": 5
}
