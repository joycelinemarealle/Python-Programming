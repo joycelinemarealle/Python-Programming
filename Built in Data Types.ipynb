{
 "cells": [
  {
   "cell_type": "markdown",
   "id": "c425ac66-2a57-4d8e-a8ea-a39b08edc8d6",
   "metadata": {},
   "source": [
    "# Lecture Examples"
   ]
  },
  {
   "cell_type": "markdown",
   "id": "dcb0d4ba-c49e-47b8-8ea4-8545f449eab4",
   "metadata": {},
   "source": [
    "### Integral types"
   ]
  },
  {
   "cell_type": "code",
   "execution_count": 4,
   "id": "7a9913ea-9b30-4f9e-b6eb-6e1a2a706bff",
   "metadata": {},
   "outputs": [
    {
     "name": "stdout",
     "output_type": "stream",
     "text": [
      "1\n",
      "<class 'int'>\n"
     ]
    }
   ],
   "source": [
    "x = 1\n",
    "print(x)\n",
    "print (type(x))"
   ]
  },
  {
   "cell_type": "markdown",
   "id": "aadd029f-76f0-40e5-9edb-3308b37794bd",
   "metadata": {},
   "source": [
    "### Integer Division"
   ]
  },
  {
   "cell_type": "code",
   "execution_count": 15,
   "id": "423b9936-fc3a-4db4-a60d-5376adfd0034",
   "metadata": {},
   "outputs": [
    {
     "name": "stdout",
     "output_type": "stream",
     "text": [
      "1.5\n",
      "<class 'float'>\n"
     ]
    }
   ],
   "source": [
    " res1= 3/2\n",
    "print(res1)\n",
    "print(type(res1))"
   ]
  },
  {
   "cell_type": "code",
   "execution_count": 17,
   "id": "4f7b2957-2cd2-46d9-b113-9d45800270e8",
   "metadata": {},
   "outputs": [
    {
     "name": "stdout",
     "output_type": "stream",
     "text": [
      "1\n",
      "<class 'int'>\n"
     ]
    }
   ],
   "source": [
    " res1= 3//2\n",
    "print(res1)\n",
    "print(type(res1))"
   ]
  },
  {
   "cell_type": "code",
   "execution_count": 21,
   "id": "990434ec-7983-4efe-be41-c3be98f008d9",
   "metadata": {},
   "outputs": [],
   "source": [
    "# f = 3.2e4 + 0.00002e-6\n",
    "# formatString = \"%1.6.20g\"\n",
    "# print(formatString % f)\n",
    "# print(type(f))"
   ]
  },
  {
   "cell_type": "code",
   "execution_count": 25,
   "id": "a442b620-e52b-48b2-82e8-3c5f1005646a",
   "metadata": {},
   "outputs": [
    {
     "name": "stdout",
     "output_type": "stream",
     "text": [
      "3\n",
      "<class 'complex'>\n",
      "0.0\n"
     ]
    }
   ],
   "source": [
    "c1= 1j\n",
    "c2 = 2j\n",
    "c3 = c1*2\n",
    "print (3)\n",
    "print(type(c3))\n",
    "print(c3.real)\n",
    "#print(c3,imag)"
   ]
  },
  {
   "cell_type": "markdown",
   "id": "d2c196a0-cf17-40d7-ad7e-b220b6fed4bf",
   "metadata": {},
   "source": [
    "### Decimal"
   ]
  },
  {
   "cell_type": "code",
   "execution_count": 27,
   "id": "e848567e-13ab-4330-987c-321f106a5f26",
   "metadata": {},
   "outputs": [
    {
     "data": {
      "text/plain": [
       "Context(prec=28, rounding=ROUND_HALF_EVEN, Emin=-999999, Emax=999999, capitals=1, clamp=0, flags=[], traps=[InvalidOperation, DivisionByZero, Overflow])"
      ]
     },
     "execution_count": 27,
     "metadata": {},
     "output_type": "execute_result"
    }
   ],
   "source": [
    "from decimal import *\n",
    "getcontext()"
   ]
  },
  {
   "cell_type": "code",
   "execution_count": 29,
   "id": "da09512e-990c-40f0-8e41-db2e65333196",
   "metadata": {},
   "outputs": [
    {
     "data": {
      "text/plain": [
       "(-157, 50)"
      ]
     },
     "execution_count": 29,
     "metadata": {},
     "output_type": "execute_result"
    }
   ],
   "source": [
    "Decimal('-3.14').as_integer_ratio()"
   ]
  },
  {
   "cell_type": "code",
   "execution_count": 36,
   "id": "e71dc200-15bf-4fa1-9717-b34153c534cc",
   "metadata": {},
   "outputs": [
    {
     "name": "stdout",
     "output_type": "stream",
     "text": [
      "Goodday\n",
      "\n",
      "Hello\n",
      "    world\n",
      "\n",
      "<class 'str'>\n",
      "\n",
      "HELLO\n",
      "    WORLD\n",
      "\n"
     ]
    }
   ],
   "source": [
    "x = 'Good'\n",
    "y= \"day\"\n",
    "print (x+y)\n",
    "\n",
    "z= \"\"\"\n",
    "Hello\n",
    "    world\n",
    "\"\"\"\n",
    "print(z)\n",
    "print(type(z))\n",
    "print(z.upper())\n"
   ]
  },
  {
   "cell_type": "markdown",
   "id": "0e890049-6044-47dc-bd3f-dfceec54378a",
   "metadata": {},
   "source": [
    "### Unicode"
   ]
  },
  {
   "cell_type": "code",
   "execution_count": 43,
   "id": "980cceb4-fa23-48eb-a5cf-3d28561893c0",
   "metadata": {},
   "outputs": [
    {
     "data": {
      "text/plain": [
       "str"
      ]
     },
     "execution_count": 43,
     "metadata": {},
     "output_type": "execute_result"
    }
   ],
   "source": [
    "type(\"abc\")"
   ]
  },
  {
   "cell_type": "code",
   "execution_count": null,
   "id": "e56f2287-6f1f-400d-b8f9-429d87e6a37b",
   "metadata": {},
   "outputs": [],
   "source": [
    "type(b\"abc\")"
   ]
  },
  {
   "cell_type": "markdown",
   "id": "26e995ba-2032-4735-8a42-ce06190e8139",
   "metadata": {},
   "source": [
    "### Lists"
   ]
  },
  {
   "cell_type": "code",
   "execution_count": 55,
   "id": "db279696-5537-48d6-ade1-bc126ac94db8",
   "metadata": {},
   "outputs": [
    {
     "name": "stdout",
     "output_type": "stream",
     "text": [
      "<class 'list'>\n",
      "[] : 0\n",
      "[4] : 1\n",
      "[2, 4, 6] : 3\n",
      "[1, 'two', 3, 'four'] : 4\n",
      "[[2, 3], [6, 8]] : 2\n"
     ]
    }
   ],
   "source": [
    "list1 = []\n",
    "list2 = [4]\n",
    "list3 = [2,4,6]\n",
    "list4= [1, \"two\", 3, 'four']\n",
    "list5 = [[2,3], [6,8]]\n",
    "print (type(list5))\n",
    "print (list1, ':', len (list1))\n",
    "print ( list2, ':', len(list2))\n",
    "print ( list3, ':', len(list3))\n",
    "print ( list4, ':', len(list4))\n",
    "print ( list5, ':', len(list5))"
   ]
  },
  {
   "cell_type": "markdown",
   "id": "09ab5a9b-dd8e-4b5c-829d-45dffcf6340b",
   "metadata": {},
   "source": [
    "### Working with Lists"
   ]
  },
  {
   "cell_type": "code",
   "execution_count": 79,
   "id": "fb49656f-2510-4da7-af1f-164dac798997",
   "metadata": {},
   "outputs": [
    {
     "name": "stdout",
     "output_type": "stream",
     "text": [
      "6\n",
      "8\n",
      "[2, 6]\n",
      "[4, 10, 8]\n"
     ]
    }
   ],
   "source": [
    "list5 = [2,6,4,10,8]\n",
    "print (list5[1])\n",
    "print (list5[-1])\n",
    "print (list5[:2]) #n from index zero to end not inclusive of end of range\n",
    "print (list5[2:]) #starts at seocnd index to end"
   ]
  },
  {
   "cell_type": "code",
   "execution_count": 83,
   "id": "8224f757-5f41-4643-bf6d-2cfad6028217",
   "metadata": {},
   "outputs": [
    {
     "name": "stdout",
     "output_type": "stream",
     "text": [
      "[2, 6, 7, 4, 10, 8]\n"
     ]
    }
   ],
   "source": [
    "#add element in list\n",
    "#list5.append(17) \n",
    "print(list5)"
   ]
  },
  {
   "cell_type": "code",
   "execution_count": 85,
   "id": "ebf7d0bf-bc80-4f3a-b0e5-cb29174f64ae",
   "metadata": {},
   "outputs": [
    {
     "name": "stdout",
     "output_type": "stream",
     "text": [
      "[2, 6, 7, 4, 10, 8, 10, 12]\n"
     ]
    }
   ],
   "source": [
    "# add list to end of another list\n",
    "list5.extend([10,12])\n",
    "print(list5)"
   ]
  },
  {
   "cell_type": "code",
   "execution_count": 87,
   "id": "48adaf1c-f955-41ea-bed3-049767a0a5e1",
   "metadata": {},
   "outputs": [
    {
     "name": "stdout",
     "output_type": "stream",
     "text": [
      "[2, 6, 7, 7, 4, 10, 8, 10, 12]\n"
     ]
    }
   ],
   "source": [
    "# use insert to add element at a particula index\n",
    "# at second index add 7 in the list\n",
    "list5.insert(2,7)\n",
    "print(list5)"
   ]
  },
  {
   "cell_type": "markdown",
   "id": "66ca5d7d-efce-4c0b-934f-355d903e8490",
   "metadata": {},
   "source": [
    "### Range"
   ]
  },
  {
   "cell_type": "code",
   "execution_count": 90,
   "id": "8a159954-0cff-44a4-9653-c3a0caf368f2",
   "metadata": {},
   "outputs": [
    {
     "name": "stdout",
     "output_type": "stream",
     "text": [
      "1 3 5 7 9 "
     ]
    }
   ],
   "source": [
    "for i in range(1,10,2):\n",
    "    print(i, '', end ='')\n",
    "    "
   ]
  },
  {
   "cell_type": "code",
   "execution_count": 92,
   "id": "3587f027-0217-4c34-a679-4c29948d9946",
   "metadata": {},
   "outputs": [
    {
     "name": "stdout",
     "output_type": "stream",
     "text": [
      "10 8 6 4 2 "
     ]
    }
   ],
   "source": [
    "for i in range (10,1,-2):\n",
    "    print(i,'', end = '')"
   ]
  },
  {
   "cell_type": "markdown",
   "id": "dde78e0f-5583-41dc-87fe-01e711852179",
   "metadata": {},
   "source": [
    "### List Comprehension"
   ]
  },
  {
   "cell_type": "code",
   "execution_count": 101,
   "id": "f7f2e378-522c-4284-9047-6cd03c5fbfa4",
   "metadata": {},
   "outputs": [
    {
     "name": "stdout",
     "output_type": "stream",
     "text": [
      "list1:  [1, 2, 3, 4, 5, 6]\n",
      "list2:  [2, 3, 4, 5, 6, 7]\n"
     ]
    }
   ],
   "source": [
    "list1 = [1,2,3,4,5,6]\n",
    "print('list1: ', list1)\n",
    "\n",
    "list2= [e+1 for e in list1]\n",
    "print('list2: ', list2)"
   ]
  },
  {
   "cell_type": "code",
   "execution_count": null,
   "id": "04b24480-721d-4b43-8e6e-92f6130cf949",
   "metadata": {},
   "outputs": [],
   "source": []
  },
  {
   "cell_type": "code",
   "execution_count": 111,
   "id": "98e2cdfd-66d8-47ab-9a95-39e5f719dfb3",
   "metadata": {},
   "outputs": [
    {
     "data": {
      "text/plain": [
       "[2, 6, 10]"
      ]
     },
     "execution_count": 111,
     "metadata": {},
     "output_type": "execute_result"
    }
   ],
   "source": [
    "#ranges and tuples\n",
    "t1= (1,3,5)\n",
    "[e1*2 for e1 in t1]\n"
   ]
  },
  {
   "cell_type": "code",
   "execution_count": 113,
   "id": "00d700a2-48bd-4bb8-9917-6de289d35f73",
   "metadata": {},
   "outputs": [
    {
     "data": {
      "text/plain": [
       "[1, 4, 9, 16, 25, 36, 49, 64, 81]"
      ]
     },
     "execution_count": 113,
     "metadata": {},
     "output_type": "execute_result"
    }
   ],
   "source": [
    "first9squares = [x*x for x in range (1,10,1)]\n",
    "first9squares"
   ]
  },
  {
   "cell_type": "markdown",
   "id": "82a38374-e64d-44fd-8cb1-54639a6f47a6",
   "metadata": {},
   "source": [
    "### Dictionaries"
   ]
  },
  {
   "cell_type": "code",
   "execution_count": 136,
   "id": "c69d0e2f-07f6-47d8-af21-e8984352bf46",
   "metadata": {},
   "outputs": [
    {
     "name": "stdout",
     "output_type": "stream",
     "text": [
      "{'one': 1, 'two': 2}\n",
      "<class 'dict'>\n",
      "2\n",
      "{'one': 1, 'two': 2, 'three': 3}\n",
      "{'one': 1, 'three': 3}\n"
     ]
    }
   ],
   "source": [
    "d = {'one':1, 'two':2}\n",
    "print(d)\n",
    "print(type(d))\n",
    "print(d['two'])\n",
    "d['three'] =3\n",
    "print(d)\n",
    "del d['two']\n",
    "print(d)"
   ]
  },
  {
   "cell_type": "code",
   "execution_count": 138,
   "id": "34f51897-289a-4c4d-984f-b1dee32b1728",
   "metadata": {},
   "outputs": [
    {
     "name": "stdout",
     "output_type": "stream",
     "text": [
      "('March', 'April', 'May')\n",
      "Jan\n"
     ]
    }
   ],
   "source": [
    "seasons = {'spring': ('March', 'April', 'May'),\n",
    "           'winter': ('Dec', 'Jan', 'Feb')}\n",
    "print ( seasons['spring'])\n",
    "print(seasons['winter'][1])\n",
    "       "
   ]
  },
  {
   "cell_type": "markdown",
   "id": "6d7a876f-e344-4b34-a5cb-958b097a5c9f",
   "metadata": {},
   "source": [
    "### More Operations on Dictionaries\n"
   ]
  },
  {
   "cell_type": "code",
   "execution_count": 149,
   "id": "c643ec04-60c5-4ff3-b5fe-4f42e573be98",
   "metadata": {},
   "outputs": [
    {
     "name": "stdout",
     "output_type": "stream",
     "text": [
      "dict_keys(['one', 'three'])\n",
      "1\n",
      "3\n"
     ]
    }
   ],
   "source": [
    "#key and values\n",
    "print(d.keys())\n",
    "values = d.values()\n",
    "for e in values:\n",
    "    print(e)"
   ]
  },
  {
   "cell_type": "code",
   "execution_count": 173,
   "id": "67213306-b017-491f-bc10-29e140e6b93e",
   "metadata": {},
   "outputs": [
    {
     "name": "stdout",
     "output_type": "stream",
     "text": [
      "dict_items([('one', 1), ('three', 3), ('four', 4), (frozenset({0, (), '2'}), 'a set')])\n"
     ]
    }
   ],
   "source": [
    "#items returns the key , value pair\n",
    "print(d.items())"
   ]
  },
  {
   "cell_type": "code",
   "execution_count": 159,
   "id": "808b996c-130b-4e85-977d-273bb2bd0a1a",
   "metadata": {},
   "outputs": [
    {
     "name": "stdout",
     "output_type": "stream",
     "text": [
      "dict_keys(['one', 'three', 'four'])\n"
     ]
    }
   ],
   "source": [
    "d['four'] = 4\n",
    "print(d.keys())\n"
   ]
  },
  {
   "cell_type": "code",
   "execution_count": 161,
   "id": "bba430d3-d8f4-4adf-9abc-89e3233a66b3",
   "metadata": {},
   "outputs": [
    {
     "name": "stdout",
     "output_type": "stream",
     "text": [
      "['four', 'one', 'three']\n"
     ]
    }
   ],
   "source": [
    "print(sorted(d.keys()))"
   ]
  },
  {
   "cell_type": "markdown",
   "id": "bc5032fe-1723-4df1-be72-fb75833dbe9d",
   "metadata": {},
   "source": [
    "### Dictionary Representation"
   ]
  },
  {
   "cell_type": "code",
   "execution_count": 170,
   "id": "4e49111d-a47b-4b34-ad49-25555cf250ca",
   "metadata": {},
   "outputs": [
    {
     "name": "stdout",
     "output_type": "stream",
     "text": [
      "frozenset({0, (), '2'})\n",
      "-7440220461443595211\n",
      "{'one': 1, 'three': 3, 'four': 4, frozenset({0, (), '2'}): 'a set'}\n"
     ]
    }
   ],
   "source": [
    "f = frozenset([0,(), '2'])\n",
    "print(f)\n",
    "print(hash (f))\n",
    "d[f] = 'a set'\n",
    "print(d)"
   ]
  },
  {
   "cell_type": "markdown",
   "id": "37e2eba2-1f25-463e-acf2-a62822b31fa1",
   "metadata": {},
   "source": [
    "### None Type"
   ]
  },
  {
   "cell_type": "code",
   "execution_count": 185,
   "id": "7888f3e2-8544-44f1-b25f-a7a2417ca146",
   "metadata": {},
   "outputs": [
    {
     "name": "stdout",
     "output_type": "stream",
     "text": [
      "<class 'int'>\n",
      "<class 'NoneType'>\n",
      "var has no value\n"
     ]
    }
   ],
   "source": [
    "var =100\n",
    "print (type(var))\n",
    "var = None\n",
    "print (type(var))\n",
    "\n",
    "if var is None:\n",
    "    print(\"var has no value\")"
   ]
  },
  {
   "cell_type": "markdown",
   "id": "9a0afaae-82a7-4adc-b9a9-f123707ae339",
   "metadata": {},
   "source": [
    "### Weakly Typed Data Representation"
   ]
  },
  {
   "cell_type": "code",
   "execution_count": 189,
   "id": "d019ac5d-5d95-4fd8-a0e4-5bba34dc0243",
   "metadata": {},
   "outputs": [
    {
     "name": "stdout",
     "output_type": "stream",
     "text": [
      "100\n",
      "<class 'list'>\n"
     ]
    }
   ],
   "source": [
    "var = 100\n",
    "print(var)\n",
    "var = [1,2,3]\n",
    "print(type(var))"
   ]
  },
  {
   "cell_type": "code",
   "execution_count": 202,
   "id": "4d17d753-b5aa-4202-a0be-5b431d87ba04",
   "metadata": {},
   "outputs": [
    {
     "name": "stdout",
     "output_type": "stream",
     "text": [
      "4.0\n",
      "[1, 2, 3, 1, 2, 3]\n",
      "22\n"
     ]
    }
   ],
   "source": [
    "s = \"2\"\n",
    "f = 2.0\n",
    "i =2\n",
    "print(i*f)\n",
    "#print(s*f) cant multiply sequence by non -int type float\n",
    "print(i*var)\n",
    "print (s*i)"
   ]
  },
  {
   "cell_type": "code",
   "execution_count": null,
   "id": "1315dfd3-1e9d-41c2-9ee6-e65882ed497c",
   "metadata": {},
   "outputs": [],
   "source": []
  }
 ],
 "metadata": {
  "kernelspec": {
   "display_name": "Python 3 (ipykernel)",
   "language": "python",
   "name": "python3"
  },
  "language_info": {
   "codemirror_mode": {
    "name": "ipython",
    "version": 3
   },
   "file_extension": ".py",
   "mimetype": "text/x-python",
   "name": "python",
   "nbconvert_exporter": "python",
   "pygments_lexer": "ipython3",
   "version": "3.12.4"
  }
 },
 "nbformat": 4,
 "nbformat_minor": 5
}
