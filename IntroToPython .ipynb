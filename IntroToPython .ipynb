{
 "cells": [
  {
   "cell_type": "code",
   "execution_count": 66,
   "id": "a7bd0b34-9934-410a-954c-471d6b43bf39",
   "metadata": {},
   "outputs": [
    {
     "name": "stdout",
     "output_type": "stream",
     "text": [
      "Hello Python!\n"
     ]
    }
   ],
   "source": [
    "\n",
    "print (\"Hello Python!\")"
   ]
  },
  {
   "cell_type": "markdown",
   "id": "c7c03215-c5a3-4dbb-8b61-4bc4ee8037ef",
   "metadata": {},
   "source": [
    "## Write a script that prompts the user to enter a number. Read this number, and print a message depending on whether it is odd or even."
   ]
  },
  {
   "cell_type": "code",
   "execution_count": 69,
   "id": "22f6dfae-b77e-492b-b7a7-8df13684fc74",
   "metadata": {},
   "outputs": [
    {
     "name": "stdin",
     "output_type": "stream",
     "text": [
      "Enter number :  6\n"
     ]
    },
    {
     "name": "stdout",
     "output_type": "stream",
     "text": [
      "6 is even\n"
     ]
    }
   ],
   "source": [
    "number = int (input(\"Enter number : \" ))\n",
    "if number %2 == 0:\n",
    "    print( number , \"is even\")\n",
    "else:\n",
    "    print ( number , \"is odd\")"
   ]
  },
  {
   "cell_type": "markdown",
   "id": "55df13b2-0c60-4518-999f-34c6c48ba45d",
   "metadata": {},
   "source": [
    "## Create two variables - one containing your name and the other containing your age. Print out the values of both of these variables on separate lines, then combine both into a single variable and print out its value."
   ]
  },
  {
   "cell_type": "code",
   "execution_count": 89,
   "id": "c8263b10-2180-4191-bcb9-e9da5ccb8de6",
   "metadata": {},
   "outputs": [
    {
     "name": "stdout",
     "output_type": "stream",
     "text": [
      "Joyceline27\n"
     ]
    }
   ],
   "source": [
    "name = \"Joyceline\"\n",
    "age = 27\n",
    "combine = name + str(age)\n",
    "print (combine)"
   ]
  },
  {
   "cell_type": "markdown",
   "id": "156eb8e3-89c3-4e41-a76a-6487049f95b0",
   "metadata": {},
   "source": [
    "## Print out a message to the user, asking them to guess a random number (you can decide on a range if you want). Keep asking them to guess until they get it right."
   ]
  },
  {
   "cell_type": "code",
   "execution_count": 118,
   "id": "e7af6f32-bdd3-4578-ba7d-3297b131e16f",
   "metadata": {},
   "outputs": [
    {
     "name": "stdin",
     "output_type": "stream",
     "text": [
      "Guess a random number between 1 and 10:  4\n"
     ]
    },
    {
     "name": "stdout",
     "output_type": "stream",
     "text": [
      "You guessed the random name correctly\n"
     ]
    }
   ],
   "source": [
    "import random\n",
    "guess_number = int (input (\"Guess a random number between 1 and 10: \"))\n",
    "random_number = random.randint(1,10) #it is inclusive\n",
    "\n",
    "if guess_number == random_number:\n",
    "    print (\"You guessed the random name correctly\")\n",
    "else:\n",
    "    print (\"You guessed wrong. Try again!\", guess_number)\n",
    "    "
   ]
  },
  {
   "cell_type": "markdown",
   "id": "d532ab3c-0416-4124-a851-038577425d04",
   "metadata": {},
   "source": [
    "## Declare a list [1, 4, 9, 16, 25] or tuple (1, 4, 9, 16, 25). Use a for-loop to print out all values that are even."
   ]
  },
  {
   "cell_type": "code",
   "execution_count": 124,
   "id": "2caa068b-e212-4c82-a6db-8b21fd4f03f9",
   "metadata": {},
   "outputs": [
    {
     "name": "stdout",
     "output_type": "stream",
     "text": [
      "[1, 4, 9, 16, 26]\n",
      "1\n",
      "4\n",
      "9\n",
      "16\n",
      "26\n",
      "1\n",
      "4\n",
      "9\n",
      "16\n",
      "26\n"
     ]
    }
   ],
   "source": [
    "number_list = [1,4,9,16,26]\n",
    "print ( number_list)\n",
    "\n",
    "for i in range ( 0, len(number_list)):\n",
    "    print(number_list[i])\n",
    "\n",
    "\n",
    "for i in number_list:\n",
    "    print (i)"
   ]
  },
  {
   "cell_type": "markdown",
   "id": "6d670e83-d0b2-474b-93db-dd280f3f2d13",
   "metadata": {},
   "source": [
    "## Using a while-loop print out the sum of all the years up to and including your current age, for example, if you were 5 y.o. you would end up with 1 + 2 + 3 + 4 + 5 = 15. Print out the final value in years (15 years). Also print out the calculated number of years as a number of months, days and hours."
   ]
  },
  {
   "cell_type": "code",
   "execution_count": 116,
   "id": "93625f7e-dd8a-479c-8571-3e42f5a45cc8",
   "metadata": {},
   "outputs": [
    {
     "name": "stdout",
     "output_type": "stream",
     "text": [
      "378 years\n",
      "4536 months 137970 days 3311280 hours\n"
     ]
    }
   ],
   "source": [
    "current_age =27\n",
    "year = 1\n",
    "year_sum = 0\n",
    "\n",
    "while year <= current_age:\n",
    "        year_sum += year\n",
    "        year += 1\n",
    "print (year_sum, \"years\" )\n",
    "\n",
    "months = year_sum *12\n",
    "days = year_sum *365\n",
    "hours = days*24\n",
    "\n",
    "print ( months, \"months\", days, \"days\", hours,\"hours\")"
   ]
  },
  {
   "cell_type": "markdown",
   "id": "a0b8d44b-1d1a-41cc-b696-95510b6f65ce",
   "metadata": {},
   "source": [
    "## Lecture Examples"
   ]
  },
  {
   "cell_type": "code",
   "execution_count": 127,
   "id": "56eef7f8-9769-476b-80d9-e8c23fe1cfc5",
   "metadata": {},
   "outputs": [
    {
     "name": "stdin",
     "output_type": "stream",
     "text": [
      "Enter your name Joyceline\n"
     ]
    },
    {
     "name": "stdout",
     "output_type": "stream",
     "text": [
      "hello Joyceline\n"
     ]
    }
   ],
   "source": [
    "name = input (\"Enter your name\")\n",
    "\n",
    "#say hello to user\n",
    "\n",
    "print (\"hello\", name)"
   ]
  },
  {
   "cell_type": "markdown",
   "id": "761d9500-15f1-4293-8228-25f0a2b2ff87",
   "metadata": {},
   "source": [
    "### Using if,elif,else"
   ]
  },
  {
   "cell_type": "code",
   "execution_count": 141,
   "id": "a6e404a2-22a0-44d8-8264-46e6c7d545c6",
   "metadata": {},
   "outputs": [
    {
     "name": "stdin",
     "output_type": "stream",
     "text": [
      "Enter a number :  -2\n"
     ]
    },
    {
     "name": "stdout",
     "output_type": "stream",
     "text": [
      "-2 is negative\n"
     ]
    },
    {
     "name": "stdin",
     "output_type": "stream",
     "text": [
      "enter another number 5\n"
     ]
    },
    {
     "name": "stdout",
     "output_type": "stream",
     "text": [
      "5 is positive\n",
      "5 squared is 25\n",
      "bye\n"
     ]
    }
   ],
   "source": [
    "num = int (input('Enter a number : '))\n",
    "if num < 0:\n",
    "        print ( num, 'is negative')\n",
    "\n",
    "num = int(input('enter another number'))\n",
    "if num > 0:\n",
    "          print (num, 'is positive')\n",
    "          print (num,'squared is', num*num)\n",
    "print('bye')"
   ]
  },
  {
   "cell_type": "code",
   "execution_count": 143,
   "id": "e2e6e785-38e5-4085-a9b6-e710c8f92e38",
   "metadata": {},
   "outputs": [
    {
     "name": "stdout",
     "output_type": "stream",
     "text": [
      "block2\n",
      "block1\n",
      "block0\n"
     ]
    }
   ],
   "source": [
    "x = True\n",
    "if x:\n",
    "    y =True\n",
    "    if y:\n",
    "        print ('block2')\n",
    "    print('block1')\n",
    "print('block0')"
   ]
  },
  {
   "cell_type": "code",
   "execution_count": 145,
   "id": "b0450c56-064d-46a7-9049-a7d79b432449",
   "metadata": {},
   "outputs": [
    {
     "name": "stdin",
     "output_type": "stream",
     "text": [
      "enter a number : 0\n"
     ]
    },
    {
     "name": "stdout",
     "output_type": "stream",
     "text": [
      "0 is zero\n"
     ]
    }
   ],
   "source": [
    "num = int(input('enter a number :'))\n",
    "if num < 0:\n",
    "    print(num,'is negative')\n",
    "elif num > 0:\n",
    "    print( num, 'is positive')\n",
    "\n",
    "else:\n",
    "    print(num , 'is zero')"
   ]
  },
  {
   "cell_type": "markdown",
   "id": "245ac3e4-8212-4c06-aa88-44f4234615e7",
   "metadata": {},
   "source": [
    "### Using if in expressions"
   ]
  },
  {
   "cell_type": "code",
   "execution_count": 149,
   "id": "152d6391-74e7-4a76-bd79-6a99869bb5c4",
   "metadata": {},
   "outputs": [
    {
     "name": "stdin",
     "output_type": "stream",
     "text": [
      "enter a number 39\n"
     ]
    },
    {
     "name": "stdout",
     "output_type": "stream",
     "text": [
      "Result is 1\n"
     ]
    }
   ],
   "source": [
    "num = int(input('enter a number'))\n",
    "result = (-1 if num <0 else 1)\n",
    "print('Result is', result)"
   ]
  },
  {
   "cell_type": "markdown",
   "id": "b2f83c7f-3709-4d9b-a587-8a0654bcf6a0",
   "metadata": {},
   "source": [
    "### Looping with for statements"
   ]
  },
  {
   "cell_type": "code",
   "execution_count": 160,
   "id": "1cdebbc4-e345-4bf0-8176-be09179f5b8f",
   "metadata": {},
   "outputs": [
    {
     "name": "stdout",
     "output_type": "stream",
     "text": [
      "Using the values from a tuple\n",
      "1 3 5 7 9 "
     ]
    }
   ],
   "source": [
    "print ('Using the values from a tuple')\n",
    "for i in (1,3,5,7,9):\n",
    "    print (i, '', end = '')"
   ]
  },
  {
   "cell_type": "code",
   "execution_count": 172,
   "id": "1de4c111-59a8-4538-9f34-ad8fd7f12b3a",
   "metadata": {},
   "outputs": [
    {
     "name": "stdout",
     "output_type": "stream",
     "text": [
      "print out values in a range\n",
      "1 3 5 7 9 \n",
      "Bye\n"
     ]
    }
   ],
   "source": [
    "#Now use values in a range\n",
    "print('print out values in a range')\n",
    "for i in range(1,10,2):\n",
    "    print(i, '', end = '')\n",
    "print()\n",
    "print('Bye')"
   ]
  },
  {
   "cell_type": "code",
   "execution_count": 197,
   "id": "53448e6e-34e7-448a-95e6-68588c0f5f5a",
   "metadata": {},
   "outputs": [
    {
     "name": "stdout",
     "output_type": "stream",
     "text": [
      "1,2,3,4,5,\n"
     ]
    }
   ],
   "source": [
    "for i in range (1,10):\n",
    "    if i == 6:\n",
    "        break\n",
    "    print(i, ',', sep='', end = '')\n",
    "print()"
   ]
  },
  {
   "cell_type": "code",
   "execution_count": 194,
   "id": "2a73bb0b-1df7-4a75-b489-9d96f9314d2e",
   "metadata": {},
   "outputs": [
    {
     "name": "stdout",
     "output_type": "stream",
     "text": [
      "1,2,3,4,5,7,8,9,\n"
     ]
    }
   ],
   "source": [
    "for i in range (1,10):\n",
    "    if i == 6:\n",
    "        continue\n",
    "    else:\n",
    "        print ( i, ',', sep = '', end = '')\n",
    "print()"
   ]
  },
  {
   "cell_type": "markdown",
   "id": "cf2fa00d-e287-4a3b-aab4-0a4884a5fd52",
   "metadata": {},
   "source": [
    "### Using else with for statement"
   ]
  },
  {
   "cell_type": "code",
   "execution_count": 203,
   "id": "e09aab34-74db-4326-9221-9b062bec8529",
   "metadata": {},
   "outputs": [
    {
     "name": "stdout",
     "output_type": "stream",
     "text": [
      "Only print code if all iterations completed\n"
     ]
    },
    {
     "name": "stdin",
     "output_type": "stream",
     "text": [
      "enter a number to check for :  7\n"
     ]
    },
    {
     "name": "stdout",
     "output_type": "stream",
     "text": [
      "1   2   3   4   \n",
      "All iterations successful\n"
     ]
    }
   ],
   "source": [
    "print('Only print code if all iterations completed')\n",
    "num = int(input('enter a number to check for : '))\n",
    "for i in [1,2,3,4]:\n",
    "    if i == num:\n",
    "        break\n",
    "    print ( i, ' ', end = ' ')\n",
    "\n",
    "else:\n",
    "    print()\n",
    "    print('All iterations successful')"
   ]
  },
  {
   "cell_type": "markdown",
   "id": "b6a3a73c-cbb5-4705-8c19-65913366cbca",
   "metadata": {},
   "source": [
    "### Looping with the while Statement"
   ]
  },
  {
   "cell_type": "code",
   "execution_count": 206,
   "id": "c09d9ef7-bd83-4460-84f6-332f438b757c",
   "metadata": {},
   "outputs": [
    {
     "name": "stdout",
     "output_type": "stream",
     "text": [
      "0 \t: 0\n",
      "1 \t: 4\n",
      "2 \t: 12\n",
      "3 \t: 24\n",
      "4 \t: 40\n",
      "5 \t: 60\n",
      "6 \t: 84\n",
      "7 \t: 112\n",
      "8 \t: 144\n",
      "9 \t: 180\n",
      "10 \t: 220\n",
      "11 \t: 264\n",
      "12 \t: 312\n",
      "13 \t: 364\n",
      "14 \t: 420\n",
      "15 \t: 480\n",
      "16 \t: 544\n",
      "done\n"
     ]
    }
   ],
   "source": [
    "fx= 0; x=0;\n",
    "while fx < 500:\n",
    "    fx=2*x*(x+1)\n",
    "    print (x, '\\t:',fx)\n",
    "    x+=1\n",
    "print('done')"
   ]
  },
  {
   "cell_type": "code",
   "execution_count": 216,
   "id": "665dd6c4-d25a-4a8a-8bfd-ad1c9b9cdec4",
   "metadata": {},
   "outputs": [
    {
     "name": "stdout",
     "output_type": "stream",
     "text": [
      "0,1,2,3,4,5,\n",
      "done\n"
     ]
    }
   ],
   "source": [
    "i = 0\n",
    "while i < 10:\n",
    "    if i ==6:\n",
    "        break\n",
    "    print (i, ',', sep='', end='')\n",
    "    i+=1\n",
    "print()\n",
    "print ('done')\n",
    "\n",
    "\n",
    "    "
   ]
  },
  {
   "cell_type": "code",
   "execution_count": 220,
   "id": "b81c1f5e-3f0f-48f9-8096-97f5e3ed3a1c",
   "metadata": {},
   "outputs": [
    {
     "name": "stdout",
     "output_type": "stream",
     "text": [
      "1,2,3,4,5,7,8,9,10,"
     ]
    }
   ],
   "source": [
    "i = 0\n",
    "while i < 10:\n",
    "    i +=1\n",
    "    if i ==6:\n",
    "        continue\n",
    "    else:\n",
    "        print (i, ',', sep='', end = '')"
   ]
  },
  {
   "cell_type": "code",
   "execution_count": null,
   "id": "de4305fc-5edf-4b6f-84a2-47586b0f5a08",
   "metadata": {},
   "outputs": [],
   "source": []
  }
 ],
 "metadata": {
  "kernelspec": {
   "display_name": "Python 3 (ipykernel)",
   "language": "python",
   "name": "python3"
  },
  "language_info": {
   "codemirror_mode": {
    "name": "ipython",
    "version": 3
   },
   "file_extension": ".py",
   "mimetype": "text/x-python",
   "name": "python",
   "nbconvert_exporter": "python",
   "pygments_lexer": "ipython3",
   "version": "3.12.4"
  }
 },
 "nbformat": 4,
 "nbformat_minor": 5
}
