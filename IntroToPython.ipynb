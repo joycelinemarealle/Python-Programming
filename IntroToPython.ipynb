{
 "cells": [
  {
   "cell_type": "code",
   "execution_count": 66,
   "id": "a7bd0b34-9934-410a-954c-471d6b43bf39",
   "metadata": {},
   "outputs": [
    {
     "name": "stdout",
     "output_type": "stream",
     "text": [
      "Hello Python!\n"
     ]
    }
   ],
   "source": [
    "\n",
    "print (\"Hello Python!\")"
   ]
  },
  {
   "cell_type": "markdown",
   "id": "c7c03215-c5a3-4dbb-8b61-4bc4ee8037ef",
   "metadata": {},
   "source": [
    "## Write a script that prompts the user to enter a number. Read this number, and print a message depending on whether it is odd or even."
   ]
  },
  {
   "cell_type": "code",
   "execution_count": 69,
   "id": "22f6dfae-b77e-492b-b7a7-8df13684fc74",
   "metadata": {},
   "outputs": [
    {
     "name": "stdin",
     "output_type": "stream",
     "text": [
      "Enter number :  6\n"
     ]
    },
    {
     "name": "stdout",
     "output_type": "stream",
     "text": [
      "6 is even\n"
     ]
    }
   ],
   "source": [
    "number = int (input(\"Enter number : \" ))\n",
    "if number %2 == 0:\n",
    "    print( number , \"is even\")\n",
    "else:\n",
    "    print ( number , \"is odd\")"
   ]
  },
  {
   "cell_type": "markdown",
   "id": "55df13b2-0c60-4518-999f-34c6c48ba45d",
   "metadata": {},
   "source": [
    "## Create two variables - one containing your name and the other containing your age. Print out the values of both of these variables on separate lines, then combine both into a single variable and print out its value."
   ]
  },
  {
   "cell_type": "code",
   "execution_count": 89,
   "id": "c8263b10-2180-4191-bcb9-e9da5ccb8de6",
   "metadata": {},
   "outputs": [
    {
     "name": "stdout",
     "output_type": "stream",
     "text": [
      "Joyceline27\n"
     ]
    }
   ],
   "source": [
    "name = \"Joyceline\"\n",
    "age = 27\n",
    "combine = name + str(age)\n",
    "print (combine)"
   ]
  },
  {
   "cell_type": "markdown",
   "id": "156eb8e3-89c3-4e41-a76a-6487049f95b0",
   "metadata": {},
   "source": [
    "## Print out a message to the user, asking them to guess a random number (you can decide on a range if you want). Keep asking them to guess until they get it right."
   ]
  },
  {
   "cell_type": "code",
   "execution_count": 81,
   "id": "e7af6f32-bdd3-4578-ba7d-3297b131e16f",
   "metadata": {},
   "outputs": [
    {
     "name": "stdin",
     "output_type": "stream",
     "text": [
      "Guess a random number between 1 and 10:  5\n"
     ]
    },
    {
     "name": "stdout",
     "output_type": "stream",
     "text": [
      "You guessed wrong. Try again! 5\n"
     ]
    }
   ],
   "source": [
    "import random\n",
    "guess_number = int (input (\"Guess a random number between 1 and 10: \"))\n",
    "random_number = random.randint(1,10) #it is inclusive\n",
    "\n",
    "if guess_number == random_number:\n",
    "    print (\"You guessed the random name correctly\")\n",
    "else:\n",
    "    print (\"You guessed wrong. Try again!\", guess_number)\n",
    "    "
   ]
  },
  {
   "cell_type": "markdown",
   "id": "d532ab3c-0416-4124-a851-038577425d04",
   "metadata": {},
   "source": [
    "## Declare a list [1, 4, 9, 16, 25] or tuple (1, 4, 9, 16, 25). Use a for-loop to print out all values that are even."
   ]
  },
  {
   "cell_type": "code",
   "execution_count": null,
   "id": "2caa068b-e212-4c82-a6db-8b21fd4f03f9",
   "metadata": {},
   "outputs": [],
   "source": [
    "number_list = [1,4,9,16,26]\n",
    "print ( number_list)\n",
    "\n",
    "for i in range ( 0, len(number_list)):\n",
    "    print(number_list[i])"
   ]
  },
  {
   "cell_type": "markdown",
   "id": "6d670e83-d0b2-474b-93db-dd280f3f2d13",
   "metadata": {},
   "source": [
    "## Using a while-loop print out the sum of all the years up to and including your current age, for example, if you were 5 y.o. you would end up with 1 + 2 + 3 + 4 + 5 = 15. Print out the final value in years (15 years). Also print out the calculated number of years as a number of months, days and hours."
   ]
  },
  {
   "cell_type": "code",
   "execution_count": 116,
   "id": "93625f7e-dd8a-479c-8571-3e42f5a45cc8",
   "metadata": {},
   "outputs": [
    {
     "name": "stdout",
     "output_type": "stream",
     "text": [
      "378 years\n",
      "4536 months 137970 days 3311280 hours\n"
     ]
    }
   ],
   "source": [
    "current_age =27\n",
    "year = 1\n",
    "year_sum = 0\n",
    "\n",
    "while year <= current_age:\n",
    "        year_sum += year\n",
    "        year += 1\n",
    "print (year_sum, \"years\" )\n",
    "\n",
    "months = year_sum *12\n",
    "days = year_sum *365\n",
    "hours = days*24\n",
    "\n",
    "print ( months, \"months\", days, \"days\", hours,\"hours\")"
   ]
  },
  {
   "cell_type": "code",
   "execution_count": null,
   "id": "c1bff43d-b1ad-4795-9277-2b62c00793bc",
   "metadata": {},
   "outputs": [],
   "source": []
  }
 ],
 "metadata": {
  "kernelspec": {
   "display_name": "Python 3 (ipykernel)",
   "language": "python",
   "name": "python3"
  },
  "language_info": {
   "codemirror_mode": {
    "name": "ipython",
    "version": 3
   },
   "file_extension": ".py",
   "mimetype": "text/x-python",
   "name": "python",
   "nbconvert_exporter": "python",
   "pygments_lexer": "ipython3",
   "version": "3.12.4"
  }
 },
 "nbformat": 4,
 "nbformat_minor": 5
}
